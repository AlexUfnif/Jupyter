{
 "cells": [
  {
   "cell_type": "code",
   "execution_count": 30,
   "id": "9c4e61be",
   "metadata": {},
   "outputs": [],
   "source": [
    "import sqlite3\n",
    "import pandas as pd\n",
    "import os\n",
    "\n",
    "pd.set_option('display.max_column', None)"
   ]
  },
  {
   "cell_type": "code",
   "execution_count": 31,
   "id": "b0acfdc2",
   "metadata": {},
   "outputs": [],
   "source": [
    "db = sqlite3.connect(r\"DB_PATH\")"
   ]
  },
  {
   "cell_type": "code",
   "execution_count": 32,
   "id": "3babcb77",
   "metadata": {},
   "outputs": [],
   "source": [
    "player_data = pd.read_sql(\"SELECT * FROM Player;\", db)\n",
    "player_stats_data = pd.read_sql(\"SELECT * FROM Player_Attributes;\", db)\n",
    "team_data = pd.read_sql(\"SELECT * FROM Team;\", db)"
   ]
  },
  {
   "cell_type": "code",
   "execution_count": 33,
   "id": "c6feb032",
   "metadata": {},
   "outputs": [
    {
     "data": {
      "text/html": [
       "<div>\n",
       "<style scoped>\n",
       "    .dataframe tbody tr th:only-of-type {\n",
       "        vertical-align: middle;\n",
       "    }\n",
       "\n",
       "    .dataframe tbody tr th {\n",
       "        vertical-align: top;\n",
       "    }\n",
       "\n",
       "    .dataframe thead th {\n",
       "        text-align: right;\n",
       "    }\n",
       "</style>\n",
       "<table border=\"1\" class=\"dataframe\">\n",
       "  <thead>\n",
       "    <tr style=\"text-align: right;\">\n",
       "      <th></th>\n",
       "      <th>id</th>\n",
       "      <th>player_api_id</th>\n",
       "      <th>player_name</th>\n",
       "      <th>player_fifa_api_id</th>\n",
       "      <th>birthday</th>\n",
       "      <th>height</th>\n",
       "      <th>weight</th>\n",
       "    </tr>\n",
       "  </thead>\n",
       "  <tbody>\n",
       "    <tr>\n",
       "      <th>0</th>\n",
       "      <td>1</td>\n",
       "      <td>505942</td>\n",
       "      <td>Aaron Appindangoye</td>\n",
       "      <td>218353</td>\n",
       "      <td>1992-02-29 00:00:00</td>\n",
       "      <td>182.88</td>\n",
       "      <td>187</td>\n",
       "    </tr>\n",
       "    <tr>\n",
       "      <th>1</th>\n",
       "      <td>2</td>\n",
       "      <td>155782</td>\n",
       "      <td>Aaron Cresswell</td>\n",
       "      <td>189615</td>\n",
       "      <td>1989-12-15 00:00:00</td>\n",
       "      <td>170.18</td>\n",
       "      <td>146</td>\n",
       "    </tr>\n",
       "    <tr>\n",
       "      <th>2</th>\n",
       "      <td>3</td>\n",
       "      <td>162549</td>\n",
       "      <td>Aaron Doran</td>\n",
       "      <td>186170</td>\n",
       "      <td>1991-05-13 00:00:00</td>\n",
       "      <td>170.18</td>\n",
       "      <td>163</td>\n",
       "    </tr>\n",
       "    <tr>\n",
       "      <th>3</th>\n",
       "      <td>4</td>\n",
       "      <td>30572</td>\n",
       "      <td>Aaron Galindo</td>\n",
       "      <td>140161</td>\n",
       "      <td>1982-05-08 00:00:00</td>\n",
       "      <td>182.88</td>\n",
       "      <td>198</td>\n",
       "    </tr>\n",
       "    <tr>\n",
       "      <th>4</th>\n",
       "      <td>5</td>\n",
       "      <td>23780</td>\n",
       "      <td>Aaron Hughes</td>\n",
       "      <td>17725</td>\n",
       "      <td>1979-11-08 00:00:00</td>\n",
       "      <td>182.88</td>\n",
       "      <td>154</td>\n",
       "    </tr>\n",
       "  </tbody>\n",
       "</table>\n",
       "</div>"
      ],
      "text/plain": [
       "   id  player_api_id         player_name  player_fifa_api_id  \\\n",
       "0   1         505942  Aaron Appindangoye              218353   \n",
       "1   2         155782     Aaron Cresswell              189615   \n",
       "2   3         162549         Aaron Doran              186170   \n",
       "3   4          30572       Aaron Galindo              140161   \n",
       "4   5          23780        Aaron Hughes               17725   \n",
       "\n",
       "              birthday  height  weight  \n",
       "0  1992-02-29 00:00:00  182.88     187  \n",
       "1  1989-12-15 00:00:00  170.18     146  \n",
       "2  1991-05-13 00:00:00  170.18     163  \n",
       "3  1982-05-08 00:00:00  182.88     198  \n",
       "4  1979-11-08 00:00:00  182.88     154  "
      ]
     },
     "execution_count": 33,
     "metadata": {},
     "output_type": "execute_result"
    }
   ],
   "source": [
    "player_data.head()"
   ]
  },
  {
   "cell_type": "code",
   "execution_count": 34,
   "id": "809eaac9",
   "metadata": {},
   "outputs": [
    {
     "data": {
      "text/plain": [
       "5925"
      ]
     },
     "execution_count": 34,
     "metadata": {},
     "output_type": "execute_result"
    }
   ],
   "source": [
    "players_180_190 = len(player_data['player_api_id'].unique()[player_data['height'].between(180, 190)])\n",
    "players_180_190\n"
   ]
  },
  {
   "cell_type": "code",
   "execution_count": 35,
   "id": "5ad4c98f",
   "metadata": {},
   "outputs": [
    {
     "data": {
      "text/plain": [
       "434"
      ]
     },
     "execution_count": 35,
     "metadata": {},
     "output_type": "execute_result"
    }
   ],
   "source": [
    "players_1980 = len(player_data.query(\"'1980-01-01' <= birthday < '1981-01-01'\"))\n",
    "\n",
    "players_1980"
   ]
  },
  {
   "cell_type": "code",
   "execution_count": 36,
   "id": "a854cb3a",
   "metadata": {},
   "outputs": [
    {
     "data": {
      "text/html": [
       "<div>\n",
       "<style scoped>\n",
       "    .dataframe tbody tr th:only-of-type {\n",
       "        vertical-align: middle;\n",
       "    }\n",
       "\n",
       "    .dataframe tbody tr th {\n",
       "        vertical-align: top;\n",
       "    }\n",
       "\n",
       "    .dataframe thead th {\n",
       "        text-align: right;\n",
       "    }\n",
       "</style>\n",
       "<table border=\"1\" class=\"dataframe\">\n",
       "  <thead>\n",
       "    <tr style=\"text-align: right;\">\n",
       "      <th></th>\n",
       "      <th>id</th>\n",
       "      <th>player_api_id</th>\n",
       "      <th>player_name</th>\n",
       "      <th>player_fifa_api_id</th>\n",
       "      <th>birthday</th>\n",
       "      <th>height</th>\n",
       "      <th>weight</th>\n",
       "    </tr>\n",
       "  </thead>\n",
       "  <tbody>\n",
       "    <tr>\n",
       "      <th>5901</th>\n",
       "      <td>5908</td>\n",
       "      <td>148325</td>\n",
       "      <td>Kristof van Hout</td>\n",
       "      <td>185306</td>\n",
       "      <td>1987-02-09 00:00:00</td>\n",
       "      <td>208.28</td>\n",
       "      <td>243</td>\n",
       "    </tr>\n",
       "    <tr>\n",
       "      <th>10297</th>\n",
       "      <td>10313</td>\n",
       "      <td>27313</td>\n",
       "      <td>Tim Wiese</td>\n",
       "      <td>53012</td>\n",
       "      <td>1981-12-17 00:00:00</td>\n",
       "      <td>193.04</td>\n",
       "      <td>243</td>\n",
       "    </tr>\n",
       "    <tr>\n",
       "      <th>4879</th>\n",
       "      <td>4884</td>\n",
       "      <td>5044</td>\n",
       "      <td>Jeroen Verhoeven</td>\n",
       "      <td>137692</td>\n",
       "      <td>1980-04-30 00:00:00</td>\n",
       "      <td>198.12</td>\n",
       "      <td>227</td>\n",
       "    </tr>\n",
       "    <tr>\n",
       "      <th>4408</th>\n",
       "      <td>4412</td>\n",
       "      <td>27267</td>\n",
       "      <td>Ishmael Miller</td>\n",
       "      <td>169725</td>\n",
       "      <td>1987-03-05 00:00:00</td>\n",
       "      <td>193.04</td>\n",
       "      <td>225</td>\n",
       "    </tr>\n",
       "    <tr>\n",
       "      <th>1595</th>\n",
       "      <td>1598</td>\n",
       "      <td>101584</td>\n",
       "      <td>Cassio</td>\n",
       "      <td>167958</td>\n",
       "      <td>1987-06-06 00:00:00</td>\n",
       "      <td>195.58</td>\n",
       "      <td>220</td>\n",
       "    </tr>\n",
       "    <tr>\n",
       "      <th>1819</th>\n",
       "      <td>1822</td>\n",
       "      <td>19020</td>\n",
       "      <td>Christopher Samba</td>\n",
       "      <td>46590</td>\n",
       "      <td>1984-03-28 00:00:00</td>\n",
       "      <td>193.04</td>\n",
       "      <td>220</td>\n",
       "    </tr>\n",
       "    <tr>\n",
       "      <th>5969</th>\n",
       "      <td>5976</td>\n",
       "      <td>210822</td>\n",
       "      <td>Lars Unnerstall</td>\n",
       "      <td>199833</td>\n",
       "      <td>1990-07-20 00:00:00</td>\n",
       "      <td>198.12</td>\n",
       "      <td>220</td>\n",
       "    </tr>\n",
       "    <tr>\n",
       "      <th>6762</th>\n",
       "      <td>6772</td>\n",
       "      <td>30669</td>\n",
       "      <td>Marcus Hahnemann</td>\n",
       "      <td>53785</td>\n",
       "      <td>1972-06-15 00:00:00</td>\n",
       "      <td>190.50</td>\n",
       "      <td>220</td>\n",
       "    </tr>\n",
       "    <tr>\n",
       "      <th>44</th>\n",
       "      <td>45</td>\n",
       "      <td>40005</td>\n",
       "      <td>Abdoulaye Faye</td>\n",
       "      <td>100329</td>\n",
       "      <td>1978-02-26 00:00:00</td>\n",
       "      <td>187.96</td>\n",
       "      <td>218</td>\n",
       "    </tr>\n",
       "    <tr>\n",
       "      <th>3026</th>\n",
       "      <td>3030</td>\n",
       "      <td>33060</td>\n",
       "      <td>Enoch Showunmi</td>\n",
       "      <td>157589</td>\n",
       "      <td>1982-04-21 00:00:00</td>\n",
       "      <td>195.58</td>\n",
       "      <td>218</td>\n",
       "    </tr>\n",
       "  </tbody>\n",
       "</table>\n",
       "</div>"
      ],
      "text/plain": [
       "          id  player_api_id        player_name  player_fifa_api_id  \\\n",
       "5901    5908         148325   Kristof van Hout              185306   \n",
       "10297  10313          27313          Tim Wiese               53012   \n",
       "4879    4884           5044   Jeroen Verhoeven              137692   \n",
       "4408    4412          27267     Ishmael Miller              169725   \n",
       "1595    1598         101584             Cassio              167958   \n",
       "1819    1822          19020  Christopher Samba               46590   \n",
       "5969    5976         210822    Lars Unnerstall              199833   \n",
       "6762    6772          30669   Marcus Hahnemann               53785   \n",
       "44        45          40005     Abdoulaye Faye              100329   \n",
       "3026    3030          33060     Enoch Showunmi              157589   \n",
       "\n",
       "                  birthday  height  weight  \n",
       "5901   1987-02-09 00:00:00  208.28     243  \n",
       "10297  1981-12-17 00:00:00  193.04     243  \n",
       "4879   1980-04-30 00:00:00  198.12     227  \n",
       "4408   1987-03-05 00:00:00  193.04     225  \n",
       "1595   1987-06-06 00:00:00  195.58     220  \n",
       "1819   1984-03-28 00:00:00  193.04     220  \n",
       "5969   1990-07-20 00:00:00  198.12     220  \n",
       "6762   1972-06-15 00:00:00  190.50     220  \n",
       "44     1978-02-26 00:00:00  187.96     218  \n",
       "3026   1982-04-21 00:00:00  195.58     218  "
      ]
     },
     "execution_count": 36,
     "metadata": {},
     "output_type": "execute_result"
    }
   ],
   "source": [
    "highest_players = player_data.sort_values(['weight','player_name'], ascending=[False,True]).head(10)\n",
    "highest_players"
   ]
  },
  {
   "cell_type": "code",
   "execution_count": 37,
   "id": "128a7e8f",
   "metadata": {
    "scrolled": false
   },
   "outputs": [
    {
     "data": {
      "text/plain": [
       "[(1980, 434),\n",
       " (1981, 475),\n",
       " (1982, 487),\n",
       " (1983, 541),\n",
       " (1984, 607),\n",
       " (1985, 593),\n",
       " (1986, 710),\n",
       " (1987, 722),\n",
       " (1988, 802),\n",
       " (1989, 723),\n",
       " (1990, 696)]"
      ]
     },
     "execution_count": 37,
     "metadata": {},
     "output_type": "execute_result"
    }
   ],
   "source": [
    "s = []\n",
    "for i in range(1980,1991):\n",
    "    b = (i,len(player_data[pd.to_datetime(player_data['birthday']).dt.year == i]))\n",
    "    s.append(b)\n",
    "    \n",
    "years_born_players = s \n",
    "years_born_players"
   ]
  },
  {
   "cell_type": "code",
   "execution_count": 38,
   "id": "6368078c",
   "metadata": {},
   "outputs": [
    {
     "data": {
      "text/plain": [
       "(182.11800000000002, 5.361479480723788)"
      ]
     },
     "execution_count": 38,
     "metadata": {},
     "output_type": "execute_result"
    }
   ],
   "source": [
    "a = player_data['height'][player_data.player_name.str.split(\" \").str[0] == \"Adriano\"].mean()\n",
    "b = player_data['height'][player_data.player_name.str.split(\" \").str[0] == \"Adriano\"].std()\n",
    "\n",
    "adriano_mean, adriano_std = a,b\n",
    "adriano_mean, adriano_std\n",
    "\n"
   ]
  },
  {
   "cell_type": "code",
   "execution_count": 39,
   "id": "ad6cc735",
   "metadata": {},
   "outputs": [
    {
     "data": {
      "text/plain": [
       "'Sunday'"
      ]
     },
     "execution_count": 39,
     "metadata": {},
     "output_type": "execute_result"
    }
   ],
   "source": [
    "dow_with_min_players_born = pd.to_datetime(player_data['birthday']).dt.day_name().value_counts(ascending=True).head(1).idxmin() \n",
    "dow_with_min_players_born"
   ]
  },
  {
   "cell_type": "code",
   "execution_count": 40,
   "id": "5c8dda93",
   "metadata": {},
   "outputs": [
    {
     "data": {
      "text/plain": [
       "'England Premier League'"
      ]
     },
     "execution_count": 40,
     "metadata": {},
     "output_type": "execute_result"
    }
   ],
   "source": [
    "league = pd.read_sql(\"SELECT * FROM League;\",db)\n",
    "matches = pd.read_sql(\"SELECT * FROM Match;\",db)\n",
    "#league['name']\n",
    "a = pd.merge(league,matches,\n",
    "            how='left', left_on='id', right_on='league_id')\n",
    "a['name'].value_counts(ascending=False).head(1).idxmax()\n",
    "league_most_matches = a['name'].value_counts(ascending=False).head(1).idxmax()\n",
    "league_most_matches\n",
    "\n",
    "              "
   ]
  },
  {
   "cell_type": "code",
   "execution_count": 41,
   "id": "10f77839",
   "metadata": {},
   "outputs": [
    {
     "data": {
      "text/plain": [
       "'Steve Mandanda'"
      ]
     },
     "execution_count": 41,
     "metadata": {},
     "output_type": "execute_result"
    }
   ],
   "source": [
    "a = pd.merge(player_data,matches,\n",
    "            how='left', left_on='player_api_id', right_on='home_player_1')\n",
    "#a['player_name'].value_counts(ascending=False).head(1).idxmax()\n",
    "\n",
    "max_matches_player = a['player_name'].value_counts(ascending=False).head(1).idxmax()\n",
    "max_matches_player"
   ]
  },
  {
   "cell_type": "code",
   "execution_count": 42,
   "id": "89b2ff63",
   "metadata": {},
   "outputs": [
    {
     "data": {
      "text/plain": [
       "[('gk_positioning', 'gk_reflexes'),\n",
       " ('gk_handling', 'gk_reflexes'),\n",
       " ('gk_handling', 'gk_positioning'),\n",
       " ('sliding_tackle', 'standing_tackle'),\n",
       " ('marking', 'standing_tackle')]"
      ]
     },
     "execution_count": 42,
     "metadata": {},
     "output_type": "execute_result"
    }
   ],
   "source": [
    "other_cols = [\"id\",\"player_fifa_api_id\",\"player_api_id\",\"date\",\n",
    "             \"preferred_food\",\"attacking_work_rate\",\"defensive_work_rate\"]\n",
    "char_cols = [c for c in player_stats_data if c not in other_cols]\n",
    "corr = player_stats_data[char_cols].corr().abs().unstack().to_frame().reset_index()\n",
    "corr = corr[corr['level_0'] != corr['level_1']]\n",
    "corr['feature_pair'] = corr.apply(lambda x: (x['level_0'],x['level_1']), axis= 1)\n",
    "corr['feature_pair'] = corr.apply(lambda x: tuple(sorted(x['feature_pair'])), axis= 1)\n",
    "\n",
    "top_correlated_features = corr[['feature_pair',0]] \\\n",
    "   .drop_duplicates().sort_values(by = 0, ascending = False)[:5]['feature_pair'].values.tolist()\n",
    "top_correlated_features\n"
   ]
  },
  {
   "cell_type": "code",
   "execution_count": null,
   "id": "39eb4c4b",
   "metadata": {},
   "outputs": [],
   "source": [
    "#!\n",
    "import numpy as np\n",
    "\n",
    "players_extended = player_stats_data \\\n",
    "    .merge(player_data[['player_api_id', 'player_name']], 'inner', 'player_api_id') \\\n",
    "    .sort_values('date').drop_duplicates(['player_api_id'], keep='last')\n",
    "\n",
    "name = \"Neymar\"\n",
    "neymar_vector = players_extended[players_extended['player_name'] == name][char_cols].values[0]\n",
    "players_vector = players_extended[char_cols].values\n",
    "\n",
    "players_extended['neymar_similar'] = np.sqrt(np.sum((players_vector - neymar_vector) ** 2, axis=1))\n",
    "neymar_similarities = players_extended \\\n",
    "    .sort_values(by=['neymar_similar', 'player_name'], ascending=True)['player_name'][1:6].values.tolist()\n",
    "#neymar_similarities"
   ]
  },
  {
   "cell_type": "code",
   "execution_count": 48,
   "id": "4e97d691",
   "metadata": {},
   "outputs": [
    {
     "name": "stdout",
     "output_type": "stream",
     "text": [
      "17\n"
     ]
    }
   ],
   "source": [
    "team = pd.read_sql(\"SELECT * FROM Team;\",db)\n",
    "country = pd.read_sql(\"SELECT * FROM Country;\",db)\n",
    "v = team['team_api_id'][team.team_long_name == 'Borussia Dortmund']\n",
    "bor = len(matches[(matches.season =='2008/2009') & (matches.country_id == 7809) & (matches.home_team_api_id == 9789)])\n",
    "borussia_bundesliga_2008_2009_matches = bor\n",
    "print(borussia_bundesliga_2008_2009_matches)"
   ]
  },
  {
   "cell_type": "code",
   "execution_count": 51,
   "id": "73d585a6",
   "metadata": {},
   "outputs": [
    {
     "data": {
      "text/plain": [
       "34"
      ]
     },
     "execution_count": 51,
     "metadata": {},
     "output_type": "execute_result"
    }
   ],
   "source": [
    "match_data = pd.read_sql(\"SELECT * FROM Match;\",db)\n",
    "league_data = pd.read_sql(\"SELECT * FROM LEAGUE\", db)\n",
    "league = league_data[['id', 'name']]\n",
    "league.columns = ['league_id', 'league_name']\n",
    "match_league = match_data.merge(league, on=['league_id'])\n",
    "\n",
    "home_teams = team_data[['team_api_id', 'team_long_name']] \\\n",
    "    .rename(columns={'team_api_id': 'home_team_api_id', 'team_long_name': 'home_team_name'})\n",
    "away_teams = team_data[['team_api_id', 'team_long_name']] \\\n",
    "    .rename(columns={'team_api_id': 'away_team_api_id', 'team_long_name': 'away_team_name'})\n",
    "\n",
    "match_team_league = match_league \\\n",
    "    .merge(home_teams, 'left', ['home_team_api_id']) \\\n",
    "    .merge(away_teams, 'left', ['away_team_api_id'])\n",
    "match_team_target_league_season = match_team_league[(match_team_league['league_name'] == 'Germany 1. Bundesliga') &\n",
    "                                    (match_team_league['season'] == '2008/2009')]\n",
    "\n",
    "team_most_matches_bundesliga_2008_2009 = match_team_target_league_season.groupby('home_team_name').size() \\\n",
    "    .add(match_team_target_league_season.groupby('away_team_name').size()) \\\n",
    "    .sort_values(ascending=False)[0].item()\n",
    "team_most_matches_bundesliga_2008_2009\n"
   ]
  },
  {
   "cell_type": "code",
   "execution_count": 52,
   "id": "46d087b3",
   "metadata": {},
   "outputs": [
    {
     "data": {
      "text/plain": [
       "20"
      ]
     },
     "execution_count": 52,
     "metadata": {},
     "output_type": "execute_result"
    }
   ],
   "source": [
    "def team_won(row):\n",
    "    if row['home_team_goal'] > row['away_team_goal']:\n",
    "        return row['home_team_name']\n",
    "    elif row['home_team_goal'] < row['away_team_goal']:\n",
    "        return row['away_team_name']\n",
    "    else:\n",
    "        return None\n",
    "match_team_league['team_won'] = match_team_league.apply(lambda x: team_won(x), axis=1)\n",
    "\n",
    "arsenal_won_matches_2015_2016 = \\\n",
    "    match_team_league[(match_team_league['team_won'] == 'Arsenal') & (match_team_league['season'] == '2015/2016')].shape[0]\n",
    "arsenal_won_matches_2015_2016\n"
   ]
  },
  {
   "cell_type": "code",
   "execution_count": 53,
   "id": "27115fd7",
   "metadata": {},
   "outputs": [
    {
     "data": {
      "text/plain": [
       "'SL Benfica'"
      ]
     },
     "execution_count": 53,
     "metadata": {},
     "output_type": "execute_result"
    }
   ],
   "source": [
    "target_matches = match_team_league[match_team_league['season'] == '2015/2016']\n",
    "\n",
    "team_total_plays = target_matches.groupby('home_team_name').size() \\\n",
    "    .add(target_matches.groupby('away_team_name').size()) \\\n",
    "    .to_frame()\n",
    "\n",
    "team_total_plays.columns = ['total_matches']\n",
    "team_total_plays.index.names = ['team_name']\n",
    "\n",
    "team_won_playes = target_matches.groupby('team_won').size().to_frame()\n",
    "team_won_playes.columns = ['won_matches']\n",
    "\n",
    "matches_won_total = team_total_plays.join(team_won_playes)\n",
    "matches_won_total['win_rate'] = matches_won_total['won_matches'] / matches_won_total['total_matches']\n",
    "team_highest_winrate_2015_2016 = matches_won_total.sort_values(['win_rate', 'team_name'], ascending=[False, True])[:1].index[0]\n",
    "team_highest_winrate_2015_2016"
   ]
  },
  {
   "cell_type": "code",
   "execution_count": 55,
   "id": "07a8cb81",
   "metadata": {},
   "outputs": [
    {
     "data": {
      "text/plain": [
       "18"
      ]
     },
     "execution_count": 55,
     "metadata": {},
     "output_type": "execute_result"
    }
   ],
   "source": [
    "match_team_league['date'] = pd.to_datetime(match_team_league['date'])\n",
    "target_league_season = match_team_league[(match_team_league['league_name'] == 'England Premier League') &\n",
    "                                        (match_team_league['season'] == '2010/2011')]\n",
    "\n",
    "team_match_date = target_league_season[['date', 'home_team_name', 'away_team_name']] \\\n",
    "    .melt(id_vars='date', var_name='team_type', value_name='team_name') \\\n",
    "    .sort_values(['team_name', 'date'])\n",
    "\n",
    "team_match_date['prev_match_date'] = team_match_date \\\n",
    "    .groupby('team_name')['date'].shift(1)\n",
    "\n",
    "team_match_date['date_diff'] = (team_match_date['date'] - team_match_date['prev_match_date']).dt.days\n",
    "highest_gap_england_2010_2011 = team_match_date.sort_values('date_diff', ascending=False).iloc[0]['date_diff'].astype(int).item()\n",
    "highest_gap_england_2010_2011\n"
   ]
  },
  {
   "cell_type": "code",
   "execution_count": null,
   "id": "e279e87c",
   "metadata": {},
   "outputs": [],
   "source": [
    "with open('student_answers.txt', 'w') as file:\n",
    "    file.write(f\"{players_180_190}\\n\")\n",
    "    file.write(f\"{players_1980}\\n\")\n",
    "    file.write(f\"{highest_players}\\n\")\n",
    "    file.write(f\"{years_born_players}\\n\")\n",
    "    file.write(f\"{round(adriano_mean, 3)} {round(adriano_std, 3)}\\n\")\n",
    "    file.write(f\"{dow_with_min_players_born}\\n\")\n",
    "    file.write(f\"{league_most_matches}\\n\")\n",
    "    file.write(f\"{max_matches_player}\\n\")\n",
    "    file.write(f\"{';'.join(['%s,%s' % tup for tup in top_correlated_features])};\\n\")\n",
    "    file.write(f\"{neymar_similarities}\\n\")\n",
    "    file.write(f\"{borussia_bundesliga_2008_2009_matches}\\n\")\n",
    "    file.write(f\"{team_most_matches_bundesliga_2008_2009}\\n\")\n",
    "    file.write(f\"{arsenal_won_matches_2015_2016}\\n\")\n",
    "    file.write(f\"{team_highest_winrate_2015_2016}\\n\")\n",
    "    file.write(f\"{highest_gap_england_2010_2011}\\n\")"
   ]
  },
  {
   "cell_type": "code",
   "execution_count": null,
   "id": "6e771174",
   "metadata": {},
   "outputs": [],
   "source": []
  }
 ],
 "metadata": {
  "kernelspec": {
   "display_name": "Python 3 (ipykernel)",
   "language": "python",
   "name": "python3"
  },
  "language_info": {
   "codemirror_mode": {
    "name": "ipython",
    "version": 3
   },
   "file_extension": ".py",
   "mimetype": "text/x-python",
   "name": "python",
   "nbconvert_exporter": "python",
   "pygments_lexer": "ipython3",
   "version": "3.9.7"
  }
 },
 "nbformat": 4,
 "nbformat_minor": 5
}
