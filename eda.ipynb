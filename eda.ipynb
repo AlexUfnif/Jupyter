{
 "cells": [
  {
   "cell_type": "code",
   "execution_count": 1,
   "id": "67f4b4db",
   "metadata": {},
   "outputs": [],
   "source": [
    "import pandas as pd\n",
    "import numpy as np\n",
    "\n",
    "import matplotlib.pyplot as plt\n",
    "import seaborn as sns"
   ]
  },
  {
   "cell_type": "markdown",
   "id": "e68e2b46",
   "metadata": {},
   "source": [
    "## Context"
   ]
  },
  {
   "cell_type": "code",
   "execution_count": 2,
   "id": "be48f9c2",
   "metadata": {},
   "outputs": [],
   "source": [
    "train = pd.read_csv(r'Path\\train.csv')\n",
    "test = pd.read_csv(r'Path\\test.csv')"
   ]
  },
  {
   "cell_type": "markdown",
   "id": "e356a562",
   "metadata": {},
   "source": [
    "## Data quality assessment"
   ]
  },
  {
   "cell_type": "code",
   "execution_count": 4,
   "id": "ab241498",
   "metadata": {},
   "outputs": [
    {
     "data": {
      "text/html": [
       "<div>\n",
       "<style scoped>\n",
       "    .dataframe tbody tr th:only-of-type {\n",
       "        vertical-align: middle;\n",
       "    }\n",
       "\n",
       "    .dataframe tbody tr th {\n",
       "        vertical-align: top;\n",
       "    }\n",
       "\n",
       "    .dataframe thead th {\n",
       "        text-align: right;\n",
       "    }\n",
       "</style>\n",
       "<table border=\"1\" class=\"dataframe\">\n",
       "  <thead>\n",
       "    <tr style=\"text-align: right;\">\n",
       "      <th></th>\n",
       "      <th>PassengerId</th>\n",
       "      <th>Survived</th>\n",
       "      <th>Pclass</th>\n",
       "      <th>Name</th>\n",
       "      <th>Sex</th>\n",
       "      <th>Age</th>\n",
       "      <th>SibSp</th>\n",
       "      <th>Parch</th>\n",
       "      <th>Ticket</th>\n",
       "      <th>Fare</th>\n",
       "      <th>Cabin</th>\n",
       "      <th>Embarked</th>\n",
       "    </tr>\n",
       "  </thead>\n",
       "  <tbody>\n",
       "    <tr>\n",
       "      <th>0</th>\n",
       "      <td>0</td>\n",
       "      <td>1</td>\n",
       "      <td>1</td>\n",
       "      <td>Oconnor, Frankie</td>\n",
       "      <td>male</td>\n",
       "      <td>NaN</td>\n",
       "      <td>2</td>\n",
       "      <td>0</td>\n",
       "      <td>209245</td>\n",
       "      <td>27.14</td>\n",
       "      <td>C12239</td>\n",
       "      <td>S</td>\n",
       "    </tr>\n",
       "    <tr>\n",
       "      <th>1</th>\n",
       "      <td>1</td>\n",
       "      <td>0</td>\n",
       "      <td>3</td>\n",
       "      <td>Bryan, Drew</td>\n",
       "      <td>male</td>\n",
       "      <td>NaN</td>\n",
       "      <td>0</td>\n",
       "      <td>0</td>\n",
       "      <td>27323</td>\n",
       "      <td>13.35</td>\n",
       "      <td>NaN</td>\n",
       "      <td>S</td>\n",
       "    </tr>\n",
       "    <tr>\n",
       "      <th>2</th>\n",
       "      <td>2</td>\n",
       "      <td>0</td>\n",
       "      <td>3</td>\n",
       "      <td>Owens, Kenneth</td>\n",
       "      <td>male</td>\n",
       "      <td>0.33</td>\n",
       "      <td>1</td>\n",
       "      <td>2</td>\n",
       "      <td>CA 457703</td>\n",
       "      <td>71.29</td>\n",
       "      <td>NaN</td>\n",
       "      <td>S</td>\n",
       "    </tr>\n",
       "    <tr>\n",
       "      <th>3</th>\n",
       "      <td>3</td>\n",
       "      <td>0</td>\n",
       "      <td>3</td>\n",
       "      <td>Kramer, James</td>\n",
       "      <td>male</td>\n",
       "      <td>19.00</td>\n",
       "      <td>0</td>\n",
       "      <td>0</td>\n",
       "      <td>A. 10866</td>\n",
       "      <td>13.04</td>\n",
       "      <td>NaN</td>\n",
       "      <td>S</td>\n",
       "    </tr>\n",
       "    <tr>\n",
       "      <th>4</th>\n",
       "      <td>4</td>\n",
       "      <td>1</td>\n",
       "      <td>3</td>\n",
       "      <td>Bond, Michael</td>\n",
       "      <td>male</td>\n",
       "      <td>25.00</td>\n",
       "      <td>0</td>\n",
       "      <td>0</td>\n",
       "      <td>427635</td>\n",
       "      <td>7.76</td>\n",
       "      <td>NaN</td>\n",
       "      <td>S</td>\n",
       "    </tr>\n",
       "  </tbody>\n",
       "</table>\n",
       "</div>"
      ],
      "text/plain": [
       "   PassengerId  Survived  Pclass              Name   Sex    Age  SibSp  Parch  \\\n",
       "0            0         1       1  Oconnor, Frankie  male    NaN      2      0   \n",
       "1            1         0       3       Bryan, Drew  male    NaN      0      0   \n",
       "2            2         0       3    Owens, Kenneth  male   0.33      1      2   \n",
       "3            3         0       3     Kramer, James  male  19.00      0      0   \n",
       "4            4         1       3     Bond, Michael  male  25.00      0      0   \n",
       "\n",
       "      Ticket   Fare   Cabin Embarked  \n",
       "0     209245  27.14  C12239        S  \n",
       "1      27323  13.35     NaN        S  \n",
       "2  CA 457703  71.29     NaN        S  \n",
       "3   A. 10866  13.04     NaN        S  \n",
       "4     427635   7.76     NaN        S  "
      ]
     },
     "execution_count": 4,
     "metadata": {},
     "output_type": "execute_result"
    }
   ],
   "source": [
    "train.head()"
   ]
  },
  {
   "cell_type": "markdown",
   "id": "4f271804",
   "metadata": {},
   "source": [
    "#### Информация о колонках: типы данных, кол-во пропущенных значений,кол-во колонок и т.д"
   ]
  },
  {
   "cell_type": "code",
   "execution_count": 5,
   "id": "f97c3772",
   "metadata": {},
   "outputs": [
    {
     "name": "stdout",
     "output_type": "stream",
     "text": [
      "<class 'pandas.core.frame.DataFrame'>\n",
      "RangeIndex: 100000 entries, 0 to 99999\n",
      "Data columns (total 12 columns):\n",
      " #   Column       Non-Null Count   Dtype  \n",
      "---  ------       --------------   -----  \n",
      " 0   PassengerId  100000 non-null  int64  \n",
      " 1   Survived     100000 non-null  int64  \n",
      " 2   Pclass       100000 non-null  int64  \n",
      " 3   Name         100000 non-null  object \n",
      " 4   Sex          100000 non-null  object \n",
      " 5   Age          96708 non-null   float64\n",
      " 6   SibSp        100000 non-null  int64  \n",
      " 7   Parch        100000 non-null  int64  \n",
      " 8   Ticket       95377 non-null   object \n",
      " 9   Fare         99866 non-null   float64\n",
      " 10  Cabin        32134 non-null   object \n",
      " 11  Embarked     99750 non-null   object \n",
      "dtypes: float64(2), int64(5), object(5)\n",
      "memory usage: 9.2+ MB\n"
     ]
    }
   ],
   "source": [
    "train.info()"
   ]
  },
  {
   "cell_type": "code",
   "execution_count": 7,
   "id": "25076ae4",
   "metadata": {},
   "outputs": [
    {
     "name": "stdout",
     "output_type": "stream",
     "text": [
      "<class 'pandas.core.frame.DataFrame'>\n",
      "RangeIndex: 100000 entries, 0 to 99999\n",
      "Data columns (total 11 columns):\n",
      " #   Column       Non-Null Count   Dtype  \n",
      "---  ------       --------------   -----  \n",
      " 0   PassengerId  100000 non-null  int64  \n",
      " 1   Pclass       100000 non-null  int64  \n",
      " 2   Name         100000 non-null  object \n",
      " 3   Sex          100000 non-null  object \n",
      " 4   Age          96513 non-null   float64\n",
      " 5   SibSp        100000 non-null  int64  \n",
      " 6   Parch        100000 non-null  int64  \n",
      " 7   Ticket       94819 non-null   object \n",
      " 8   Fare         99867 non-null   float64\n",
      " 9   Cabin        29169 non-null   object \n",
      " 10  Embarked     99723 non-null   object \n",
      "dtypes: float64(2), int64(4), object(5)\n",
      "memory usage: 8.4+ MB\n"
     ]
    }
   ],
   "source": [
    "test.info()"
   ]
  },
  {
   "cell_type": "markdown",
   "id": "3cbfe9f3",
   "metadata": {},
   "source": [
    "В итоге \n",
    "* в train 100000 строк, 12 колонок \n",
    "* в test 100000 строк, 11 колонок "
   ]
  },
  {
   "cell_type": "code",
   "execution_count": 28,
   "id": "71bc3959",
   "metadata": {},
   "outputs": [
    {
     "data": {
      "text/plain": [
       "(100000, 12)"
      ]
     },
     "execution_count": 28,
     "metadata": {},
     "output_type": "execute_result"
    }
   ],
   "source": [
    "#проверим\n",
    "train.shape"
   ]
  },
  {
   "cell_type": "markdown",
   "id": "9c710ec8",
   "metadata": {},
   "source": [
    "Оценим кол - во пустых ячеек в столбцах"
   ]
  },
  {
   "cell_type": "code",
   "execution_count": 3,
   "id": "26e40479",
   "metadata": {},
   "outputs": [
    {
     "data": {
      "text/plain": [
       "Cabin          67866\n",
       "Ticket          4623\n",
       "Age             3292\n",
       "Embarked         250\n",
       "Fare             134\n",
       "PassengerId        0\n",
       "Survived           0\n",
       "Pclass             0\n",
       "Name               0\n",
       "Sex                0\n",
       "SibSp              0\n",
       "Parch              0\n",
       "dtype: int64"
      ]
     },
     "execution_count": 3,
     "metadata": {},
     "output_type": "execute_result"
    }
   ],
   "source": [
    "train.isnull().sum().sort_values(ascending = False)\n"
   ]
  },
  {
   "cell_type": "code",
   "execution_count": 4,
   "id": "18fa8f88",
   "metadata": {},
   "outputs": [
    {
     "data": {
      "text/plain": [
       "Cabin          67.866\n",
       "Ticket          4.623\n",
       "Age             3.292\n",
       "Embarked        0.250\n",
       "Fare            0.134\n",
       "PassengerId     0.000\n",
       "Survived        0.000\n",
       "Pclass          0.000\n",
       "Name            0.000\n",
       "Sex             0.000\n",
       "SibSp           0.000\n",
       "Parch           0.000\n",
       "dtype: float64"
      ]
     },
     "execution_count": 4,
     "metadata": {},
     "output_type": "execute_result"
    }
   ],
   "source": [
    "# кол - во пустых ячеек в %\n",
    "missing_percentages_train = (train[train.columns].isnull().sum() / train.shape[0]) * 100\n",
    "missing_percentages_train.sort_values(ascending = False)"
   ]
  },
  {
   "cell_type": "markdown",
   "id": "e7a64d54",
   "metadata": {},
   "source": [
    "**Получаем, что в столбце Ticket 4623 (4.62%) пропусков, Age 3292 (3.29%) пропусков,Embarked 250(0.25%), а в Cabin 67866 (67.86%), что сильно больше половины.**"
   ]
  },
  {
   "cell_type": "markdown",
   "id": "485b215c",
   "metadata": {},
   "source": [
    "## Prepare Data for Analysis ##"
   ]
  },
  {
   "cell_type": "code",
   "execution_count": 5,
   "id": "86212ea1",
   "metadata": {},
   "outputs": [],
   "source": [
    "# Т.к колонка Cabin больше чем на половину пуста, удаляем ее\n",
    "# Колонка Name ,на выживаемость меньше всего повлияет ,не несет полезной информации\n",
    "# Аналогично номер билета\n",
    "# удаление ненужных колонок\n",
    "useless_columns = ['Name','Ticket','Cabin']\n",
    "train_clean = train.drop(columns=useless_columns)\n",
    "test_clean = test.drop(columns=useless_columns)"
   ]
  },
  {
   "cell_type": "code",
   "execution_count": 6,
   "id": "6455ec20",
   "metadata": {},
   "outputs": [],
   "source": [
    "# заполнение пропущенных данных\n",
    "def fill_data(df):\n",
    "    df_copy = df.copy() #копируем чтобы не изменить оргигинал\n",
    "    \n",
    "    #заполняем пропущенные значения для категориальных переменных самым частым значением в колонке\n",
    "    catigorial_vars = list(df_copy.select_dtypes(include =['object']).columns.values)\n",
    "    for col in catigorial_vars:\n",
    "        if (df_copy[col].isnull().values.any()):\n",
    "            df_copy[col].fillna(df_copy[col].mode()[0],inplace = True)\n",
    "            \n",
    "    #заполняем пропущенные значения для колличественных переменных медианной по столбцу\n",
    "    numerical_vars = list(df_copy.select_dtypes(include =['int64','float64']).columns.values)\n",
    "    for col in numerical_vars:\n",
    "        if (df_copy[col].isnull().values.any()):\n",
    "            df_copy[col].fillna(df_copy[col].median(),inplace = True)\n",
    "            \n",
    "    return df_copy        \n",
    "            \n"
   ]
  },
  {
   "cell_type": "code",
   "execution_count": 7,
   "id": "6346bc20",
   "metadata": {},
   "outputs": [],
   "source": [
    "train_full = fill_data(train_clean)\n",
    "test_full = fill_data(test_clean)"
   ]
  },
  {
   "cell_type": "code",
   "execution_count": 11,
   "id": "87294aff",
   "metadata": {},
   "outputs": [
    {
     "name": "stdout",
     "output_type": "stream",
     "text": [
      "<class 'pandas.core.frame.DataFrame'>\n",
      "RangeIndex: 100000 entries, 0 to 99999\n",
      "Data columns (total 9 columns):\n",
      " #   Column       Non-Null Count   Dtype  \n",
      "---  ------       --------------   -----  \n",
      " 0   PassengerId  100000 non-null  int64  \n",
      " 1   Survived     100000 non-null  int64  \n",
      " 2   Pclass       100000 non-null  int64  \n",
      " 3   Sex          100000 non-null  object \n",
      " 4   Age          100000 non-null  float64\n",
      " 5   SibSp        100000 non-null  int64  \n",
      " 6   Parch        100000 non-null  int64  \n",
      " 7   Fare         100000 non-null  float64\n",
      " 8   Embarked     100000 non-null  object \n",
      "dtypes: float64(2), int64(5), object(2)\n",
      "memory usage: 6.9+ MB\n"
     ]
    }
   ],
   "source": [
    "#Проверка после заполнения\n",
    "train_full.info()"
   ]
  },
  {
   "cell_type": "code",
   "execution_count": 12,
   "id": "dda4cc3b",
   "metadata": {},
   "outputs": [
    {
     "name": "stdout",
     "output_type": "stream",
     "text": [
      "<class 'pandas.core.frame.DataFrame'>\n",
      "RangeIndex: 100000 entries, 0 to 99999\n",
      "Data columns (total 8 columns):\n",
      " #   Column       Non-Null Count   Dtype  \n",
      "---  ------       --------------   -----  \n",
      " 0   PassengerId  100000 non-null  int64  \n",
      " 1   Pclass       100000 non-null  int64  \n",
      " 2   Sex          100000 non-null  object \n",
      " 3   Age          100000 non-null  float64\n",
      " 4   SibSp        100000 non-null  int64  \n",
      " 5   Parch        100000 non-null  int64  \n",
      " 6   Fare         100000 non-null  float64\n",
      " 7   Embarked     100000 non-null  object \n",
      "dtypes: float64(2), int64(4), object(2)\n",
      "memory usage: 6.1+ MB\n"
     ]
    }
   ],
   "source": [
    "test_full.info()"
   ]
  },
  {
   "cell_type": "markdown",
   "id": "a5dbb827",
   "metadata": {},
   "source": [
    "## Data exploration ##"
   ]
  },
  {
   "cell_type": "code",
   "execution_count": 13,
   "id": "93dc6c21",
   "metadata": {},
   "outputs": [
    {
     "data": {
      "image/png": "[encoded data removed]",
      "text/plain": [
       "<Figure size 432x288 with 1 Axes>"
      ]
     },
     "metadata": {},
     "output_type": "display_data"
    }
   ],
   "source": [
    "# Визуализация данных\n",
    "# Процент выживших(Survived) и погибших(Deceased),круговая диаграмма подходит больше всего\n",
    "plt.figure(figsize=(6,4))\n",
    "sns.set_palette([\"#8072fa\",\"blue\"])\n",
    "\n",
    "train_full['Survived'].value_counts().plot(kind='pie',labels = ['',''], autopct='%1.1f%%')\n",
    "\n",
    "plt.legend(labels=['Deceased', 'Survived'])\n",
    "plt.show()"
   ]
  },
  {
   "cell_type": "code",
   "execution_count": 47,
   "id": "75348798",
   "metadata": {},
   "outputs": [
    {
     "data": {
      "text/plain": [
       "<seaborn.axisgrid.FacetGrid at 0x2713512baf0>"
      ]
     },
     "execution_count": 47,
     "metadata": {},
     "output_type": "execute_result"
    },
    {
     "data": {
      "image/png": "[encoded data removed]",
      "text/plain": [
       "<Figure size 407x360 with 1 Axes>"
      ]
     },
     "metadata": {},
     "output_type": "display_data"
    }
   ],
   "source": [
    "# количество выживших мужчин намного меньше ,чем выживших женщин\n",
    "\n",
    "#1 вывод: если ты мужчина на Synthanic, вероятность что ты умрешь, гораздо больше\n",
    "\n",
    "sns.set_style(\"darkgrid\")\n",
    "sns.catplot(x = 'Sex',data=train_full, hue='Survived',kind = 'count',palette  ='Paired')"
   ]
  },
  {
   "cell_type": "code",
   "execution_count": 13,
   "id": "93aa8adb",
   "metadata": {},
   "outputs": [
    {
     "data": {
      "text/plain": [
       "<seaborn.axisgrid.FacetGrid at 0x2712bdec3a0>"
      ]
     },
     "execution_count": 13,
     "metadata": {},
     "output_type": "execute_result"
    },
    {
     "data": {
      "image/png": "[encoded data removed]",
      "text/plain": [
       "<Figure size 407x360 with 1 Axes>"
      ]
     },
     "metadata": {},
     "output_type": "display_data"
    }
   ],
   "source": [
    "# выживаемость в зависимости от класса\n",
    "#для визуализации разброса внутри категорий, лучше использовать catplot()\n",
    "sns.catplot(x = 'Pclass',data=train_full, hue='Survived', kind = 'count')\n",
    "#2 вывод Если у тебя 1 класс у тебя больше шанс выжить, чем у того кто в 3 классе \n",
    "# бедность также влияет на выживаемость\n",
    "# каюты бедняков были на самом дне(первые,кого подтапливало),не уcпели выбрaться, в отличии от кают богачей,которые были наверху"
   ]
  },
  {
   "cell_type": "code",
   "execution_count": 53,
   "id": "a4d5d3aa",
   "metadata": {},
   "outputs": [
    {
     "data": {
      "text/plain": [
       "<AxesSubplot:xlabel='count', ylabel='Pclass'>"
      ]
     },
     "execution_count": 53,
     "metadata": {},
     "output_type": "execute_result"
    },
    {
     "data": {
      "image/png": "[encoded data removed]",
      "text/plain": [
       "<Figure size 432x288 with 1 Axes>"
      ]
     },
     "metadata": {},
     "output_type": "display_data"
    }
   ],
   "source": [
    "#Третий класс имел больше людей - бедных было больше изначально\n",
    "\n",
    "sns.countplot(y = 'Pclass', data = train_full,order =train_full['Pclass'].value_counts(ascending=True).index,palette  ='rocket_r')\n",
    "# чтобы найти количество наблюдений в каждой категориальной ячейке с помощью столбцов, подойдет countplot()\n"
   ]
  },
  {
   "cell_type": "code",
   "execution_count": 32,
   "id": "fd6d478e",
   "metadata": {},
   "outputs": [
    {
     "data": {
      "text/plain": [
       "<seaborn.axisgrid.FacetGrid at 0x2712a528cd0>"
      ]
     },
     "execution_count": 32,
     "metadata": {},
     "output_type": "execute_result"
    },
    {
     "data": {
      "image/png": "[encoded data removed]",
      "text/plain": [
       "<Figure size 426.125x360 with 1 Axes>"
      ]
     },
     "metadata": {},
     "output_type": "display_data"
    }
   ],
   "source": [
    "sns.catplot(x = 'Pclass',data=train_full, hue = 'Sex', kind = 'count',palette  ='mako')\n",
    "#бедных мужчин было больше всего"
   ]
  },
  {
   "cell_type": "code",
   "execution_count": 112,
   "id": "93819aaf",
   "metadata": {},
   "outputs": [
    {
     "data": {
      "text/plain": [
       "<seaborn.axisgrid.FacetGrid at 0x1e89f9ad8b0>"
      ]
     },
     "execution_count": 112,
     "metadata": {},
     "output_type": "execute_result"
    },
    {
     "data": {
      "image/png": "[encoded data removed]",
      "text/plain": [
       "<Figure size 1080x360 with 3 Axes>"
      ]
     },
     "metadata": {},
     "output_type": "display_data"
    }
   ],
   "source": [
    "#3 вывод  если ты бедный мужчина на Synthanic, вероятность что ты умрешь, гораздо больше\n",
    "sns.catplot(x = 'Sex', y ='Survived', col ='Pclass',  data=train_full,  kind = 'bar', palette  ='Set1')"
   ]
  },
  {
   "cell_type": "code",
   "execution_count": 45,
   "id": "99c26788",
   "metadata": {},
   "outputs": [
    {
     "data": {
      "text/plain": [
       "<seaborn.axisgrid.FacetGrid at 0x27130ce1f10>"
      ]
     },
     "execution_count": 45,
     "metadata": {},
     "output_type": "execute_result"
    },
    {
     "data": {
      "image/png": "[encoded data removed]",
      "text/plain": [
       "<Figure size 1127x360 with 3 Axes>"
      ]
     },
     "metadata": {},
     "output_type": "display_data"
    }
   ],
   "source": [
    "#посмотрим на  выживаемость, в зависимости от класса и возраста \n",
    "#изпользуем Гистограммы, показывающие распределение одной числовой переменной displot(), 3 графика для каждого класса\n",
    "# люди в 3 классе погибали чаще в возрасте от 20-40лет\n",
    "# В первом классе в возрасте от 40-60 было много выживших,возможно чем статнее человек,тем у него было больше шансов выжить \n",
    "# или купить место в шлюпке\n",
    "sns.displot(data = train_full, x = 'Age',kde=True, hue = 'Survived', col= 'Pclass',palette  ='pastel')"
   ]
  },
  {
   "cell_type": "code",
   "execution_count": 20,
   "id": "d361fcdf",
   "metadata": {},
   "outputs": [
    {
     "data": {
      "text/plain": [
       "<AxesSubplot:xlabel='Embarked', ylabel='Survived'>"
      ]
     },
     "execution_count": 20,
     "metadata": {},
     "output_type": "execute_result"
    },
    {
     "data": {
      "image/png": "[encoded data removed]",
      "text/plain": [
       "<Figure size 1584x432 with 3 Axes>"
      ]
     },
     "metadata": {
      "needs_background": "light"
     },
     "output_type": "display_data"
    }
   ],
   "source": [
    "#Распределение категориальных переменных\n",
    "# Столбчатые диаграммы полезны для сравнения величин, соответствующих различным группам. \n",
    "fig, axes = plt.subplots(1, 3, figsize=(22,6))\n",
    "fig.suptitle('Distribution of categorical variables')\n",
    "sns.barplot(x = 'Sex', y = 'Survived', data = train_full, ax=axes[0])\n",
    "sns.barplot(x = 'Pclass', y = 'Survived', data = train_full, ax=axes[1])\n",
    "sns.barplot(x = 'Embarked', y = 'Survived', data = train_full, ax=axes[2])\n",
    "# Рассмотрим выживаемость на примере трех категориальных переменных\n",
    "# Первые два графика понятно - женщин выжило больше чем мужчин,если ты в первом классе шанс выжить больше\n",
    "# Embarked -  порт погрузки:Большинство людей, которые грузились в Southampton, не выжили. \n",
    "# Большинство людей, которые грузились в Cherbourg, выжили.\n"
   ]
  },
  {
   "cell_type": "code",
   "execution_count": 63,
   "id": "36bd15f8",
   "metadata": {},
   "outputs": [
    {
     "data": {
      "text/plain": [
       "<seaborn.axisgrid.FacetGrid at 0x1e88e3576a0>"
      ]
     },
     "execution_count": 63,
     "metadata": {},
     "output_type": "execute_result"
    },
    {
     "data": {
      "image/png": "[encoded data removed]",
      "text/plain": [
       "<Figure size 407x360 with 1 Axes>"
      ]
     },
     "metadata": {},
     "output_type": "display_data"
    }
   ],
   "source": [
    "#от кол-ва членов семьи не зависит выживаемость\n",
    "#4 если есть супруг и родственник, выживаемость чуть ниже смертности\n",
    "\n",
    "sns.catplot(x = 'SibSp',  data=train_full,hue ='Survived',   kind = 'count')\n"
   ]
  },
  {
   "cell_type": "code",
   "execution_count": 60,
   "id": "8712a4ed",
   "metadata": {},
   "outputs": [
    {
     "data": {
      "text/plain": [
       "<seaborn.axisgrid.FacetGrid at 0x1e88f91c3a0>"
      ]
     },
     "execution_count": 60,
     "metadata": {},
     "output_type": "execute_result"
    },
    {
     "data": {
      "image/png": "[encoded data removed]",
      "text/plain": [
       "<Figure size 407x360 with 1 Axes>"
      ]
     },
     "metadata": {},
     "output_type": "display_data"
    }
   ],
   "source": [
    "sns.catplot(x = 'Parch',  data=train_full,hue ='Survived',   kind = 'count')\n",
    "#5 если есть 1 ребенок или  родители, возможно  шанс выжить был больше"
   ]
  },
  {
   "cell_type": "code",
   "execution_count": 19,
   "id": "9cb89674",
   "metadata": {},
   "outputs": [
    {
     "data": {
      "text/html": [
       "<div>\n",
       "<style scoped>\n",
       "    .dataframe tbody tr th:only-of-type {\n",
       "        vertical-align: middle;\n",
       "    }\n",
       "\n",
       "    .dataframe tbody tr th {\n",
       "        vertical-align: top;\n",
       "    }\n",
       "\n",
       "    .dataframe thead th {\n",
       "        text-align: right;\n",
       "    }\n",
       "</style>\n",
       "<table border=\"1\" class=\"dataframe\">\n",
       "  <thead>\n",
       "    <tr style=\"text-align: right;\">\n",
       "      <th></th>\n",
       "      <th>PassengerId</th>\n",
       "      <th>Survived</th>\n",
       "      <th>Pclass</th>\n",
       "      <th>Sex</th>\n",
       "      <th>Age</th>\n",
       "      <th>SibSp</th>\n",
       "      <th>Parch</th>\n",
       "      <th>Fare</th>\n",
       "      <th>Embarked</th>\n",
       "      <th>Family_size</th>\n",
       "    </tr>\n",
       "  </thead>\n",
       "  <tbody>\n",
       "    <tr>\n",
       "      <th>0</th>\n",
       "      <td>0</td>\n",
       "      <td>1</td>\n",
       "      <td>1</td>\n",
       "      <td>male</td>\n",
       "      <td>39.00</td>\n",
       "      <td>2</td>\n",
       "      <td>0</td>\n",
       "      <td>27.14</td>\n",
       "      <td>S</td>\n",
       "      <td>2</td>\n",
       "    </tr>\n",
       "    <tr>\n",
       "      <th>1</th>\n",
       "      <td>1</td>\n",
       "      <td>0</td>\n",
       "      <td>3</td>\n",
       "      <td>male</td>\n",
       "      <td>39.00</td>\n",
       "      <td>0</td>\n",
       "      <td>0</td>\n",
       "      <td>13.35</td>\n",
       "      <td>S</td>\n",
       "      <td>0</td>\n",
       "    </tr>\n",
       "    <tr>\n",
       "      <th>2</th>\n",
       "      <td>2</td>\n",
       "      <td>0</td>\n",
       "      <td>3</td>\n",
       "      <td>male</td>\n",
       "      <td>0.33</td>\n",
       "      <td>1</td>\n",
       "      <td>2</td>\n",
       "      <td>71.29</td>\n",
       "      <td>S</td>\n",
       "      <td>3</td>\n",
       "    </tr>\n",
       "    <tr>\n",
       "      <th>3</th>\n",
       "      <td>3</td>\n",
       "      <td>0</td>\n",
       "      <td>3</td>\n",
       "      <td>male</td>\n",
       "      <td>19.00</td>\n",
       "      <td>0</td>\n",
       "      <td>0</td>\n",
       "      <td>13.04</td>\n",
       "      <td>S</td>\n",
       "      <td>0</td>\n",
       "    </tr>\n",
       "    <tr>\n",
       "      <th>4</th>\n",
       "      <td>4</td>\n",
       "      <td>1</td>\n",
       "      <td>3</td>\n",
       "      <td>male</td>\n",
       "      <td>25.00</td>\n",
       "      <td>0</td>\n",
       "      <td>0</td>\n",
       "      <td>7.76</td>\n",
       "      <td>S</td>\n",
       "      <td>0</td>\n",
       "    </tr>\n",
       "  </tbody>\n",
       "</table>\n",
       "</div>"
      ],
      "text/plain": [
       "   PassengerId  Survived  Pclass   Sex    Age  SibSp  Parch   Fare Embarked  \\\n",
       "0            0         1       1  male  39.00      2      0  27.14        S   \n",
       "1            1         0       3  male  39.00      0      0  13.35        S   \n",
       "2            2         0       3  male   0.33      1      2  71.29        S   \n",
       "3            3         0       3  male  19.00      0      0  13.04        S   \n",
       "4            4         1       3  male  25.00      0      0   7.76        S   \n",
       "\n",
       "   Family_size  \n",
       "0            2  \n",
       "1            0  \n",
       "2            3  \n",
       "3            0  \n",
       "4            0  "
      ]
     },
     "execution_count": 19,
     "metadata": {},
     "output_type": "execute_result"
    }
   ],
   "source": [
    "#Попробуем соединить колонки SibSp + Parch\n",
    "#feature engineering\n",
    "# и создать новую колонку-признак с количеством родственников\n",
    "train_full['Family_size'] = train_full['Parch'] + train_full['SibSp']\n",
    "test_full['Family_size'] = test_full['Parch'] + test_full['SibSp']\n",
    "train_full.head()"
   ]
  },
  {
   "cell_type": "code",
   "execution_count": 28,
   "id": "61b83b87",
   "metadata": {},
   "outputs": [
    {
     "data": {
      "text/plain": [
       "<seaborn.axisgrid.FacetGrid at 0x2712a52d340>"
      ]
     },
     "execution_count": 28,
     "metadata": {},
     "output_type": "execute_result"
    },
    {
     "data": {
      "image/png": "[encoded data removed]",
      "text/plain": [
       "<Figure size 407x360 with 1 Axes>"
      ]
     },
     "metadata": {},
     "output_type": "display_data"
    }
   ],
   "source": [
    "# новые случаи выживания с новым признаком\n",
    "# ничего не поменялось, хотя самое очевидное - если пассажир одинок,вероятность смерти больше\n",
    "sns.catplot(x ='Family_size',  data=train_full,hue ='Survived',   kind = 'count',palette  ='tab20')"
   ]
  },
  {
   "cell_type": "markdown",
   "id": "a6a2d90b",
   "metadata": {},
   "source": [
    "## Summary ##"
   ]
  },
  {
   "cell_type": "markdown",
   "id": "ccde50de",
   "metadata": {},
   "source": [
    "**Если ты богатая женщина из 1 класса, от 40 до 60 лет, шанс выжить на Synthanic очень велик (возможно, купив себе шлюпку,т.к их не хватало)**\n",
    "\n",
    "**Если ты богатая женщина из 1 класса, от 40 до 60 лет, севшая в Порте Шербура,шанс выжить еще больше велик на Synthanic**\n",
    "\n",
    "**\"Значительную часть новых пассажиров составили богатые американцы, закончившие свой зимний сезон в Монте-Карло, Ницце, Канне и других курортах Ривьеры\" - выдержка из истории про корабль**\n",
    "\n"
   ]
  },
  {
   "cell_type": "markdown",
   "id": "de675324",
   "metadata": {},
   "source": [
    "### Задание с Kaggle ###"
   ]
  },
  {
   "cell_type": "code",
   "execution_count": 72,
   "id": "6fa7a254",
   "metadata": {},
   "outputs": [],
   "source": [
    "#выбираем всех мужчин с 3 класса(бедные) и указываем что они не выжили\n",
    "simple_pred = (~((test_full['Sex']=='male') & (test_full['Pclass']==3))).astype(int).values"
   ]
  },
  {
   "cell_type": "code",
   "execution_count": 73,
   "id": "e74497e4",
   "metadata": {},
   "outputs": [],
   "source": [
    "#функция для составление файла для kaggle\n",
    "def make_file(prediction,test_data,name):\n",
    "    result = pd.DataFrame({'PassengerId':test_data.reset_index()['PassengerId'],'Survived':prediction})\n",
    "    result.to_csv(name, index=False)\n",
    "    "
   ]
  },
  {
   "cell_type": "code",
   "execution_count": 74,
   "id": "6cb2871d",
   "metadata": {},
   "outputs": [],
   "source": [
    "make_file(simple_pred,test,'synthanic_simple_base.csv')"
   ]
  },
  {
   "cell_type": "code",
   "execution_count": 75,
   "id": "0f8b2d49",
   "metadata": {},
   "outputs": [],
   "source": [
    " sam_sub = pd.read_csv(r'Path\\synthanic_simple_base.csv')"
   ]
  },
  {
   "cell_type": "code",
   "execution_count": 76,
   "id": "8d8720bd",
   "metadata": {},
   "outputs": [
    {
     "data": {
      "text/html": [
       "<div>\n",
       "<style scoped>\n",
       "    .dataframe tbody tr th:only-of-type {\n",
       "        vertical-align: middle;\n",
       "    }\n",
       "\n",
       "    .dataframe tbody tr th {\n",
       "        vertical-align: top;\n",
       "    }\n",
       "\n",
       "    .dataframe thead th {\n",
       "        text-align: right;\n",
       "    }\n",
       "</style>\n",
       "<table border=\"1\" class=\"dataframe\">\n",
       "  <thead>\n",
       "    <tr style=\"text-align: right;\">\n",
       "      <th></th>\n",
       "      <th>PassengerId</th>\n",
       "      <th>Survived</th>\n",
       "    </tr>\n",
       "  </thead>\n",
       "  <tbody>\n",
       "    <tr>\n",
       "      <th>0</th>\n",
       "      <td>100000</td>\n",
       "      <td>0</td>\n",
       "    </tr>\n",
       "    <tr>\n",
       "      <th>1</th>\n",
       "      <td>100001</td>\n",
       "      <td>1</td>\n",
       "    </tr>\n",
       "    <tr>\n",
       "      <th>2</th>\n",
       "      <td>100002</td>\n",
       "      <td>1</td>\n",
       "    </tr>\n",
       "    <tr>\n",
       "      <th>3</th>\n",
       "      <td>100003</td>\n",
       "      <td>1</td>\n",
       "    </tr>\n",
       "    <tr>\n",
       "      <th>4</th>\n",
       "      <td>100004</td>\n",
       "      <td>1</td>\n",
       "    </tr>\n",
       "  </tbody>\n",
       "</table>\n",
       "</div>"
      ],
      "text/plain": [
       "   PassengerId  Survived\n",
       "0       100000         0\n",
       "1       100001         1\n",
       "2       100002         1\n",
       "3       100003         1\n",
       "4       100004         1"
      ]
     },
     "execution_count": 76,
     "metadata": {},
     "output_type": "execute_result"
    }
   ],
   "source": [
    "sam_sub.head()"
   ]
  },
  {
   "cell_type": "code",
   "execution_count": 21,
   "id": "3a5bf9cc",
   "metadata": {},
   "outputs": [],
   "source": [
    "# видим явную зависимость выживаемости от пола и класса каюты.\n",
    "#В качестве признаков возьмем пол и класс каюты,  Итоговый список :\n",
    "features = ['Sex', 'Pclass', 'SibSp', 'Parch']\n",
    "#features = ['Sex', 'Pclass']\n",
    "y = train_full['Survived']"
   ]
  },
  {
   "cell_type": "code",
   "execution_count": 22,
   "id": "3aac1a37",
   "metadata": {},
   "outputs": [],
   "source": [
    "#в столбце Sex находятся не числа, а строки, поменяем значения на 0 и 1\n",
    "X = pd.get_dummies(train_full[features])\n",
    "X_test = pd.get_dummies(test_full[features])"
   ]
  },
  {
   "cell_type": "code",
   "execution_count": 23,
   "id": "8afdd012",
   "metadata": {},
   "outputs": [
    {
     "data": {
      "text/html": [
       "<div>\n",
       "<style scoped>\n",
       "    .dataframe tbody tr th:only-of-type {\n",
       "        vertical-align: middle;\n",
       "    }\n",
       "\n",
       "    .dataframe tbody tr th {\n",
       "        vertical-align: top;\n",
       "    }\n",
       "\n",
       "    .dataframe thead th {\n",
       "        text-align: right;\n",
       "    }\n",
       "</style>\n",
       "<table border=\"1\" class=\"dataframe\">\n",
       "  <thead>\n",
       "    <tr style=\"text-align: right;\">\n",
       "      <th></th>\n",
       "      <th>Pclass</th>\n",
       "      <th>SibSp</th>\n",
       "      <th>Parch</th>\n",
       "      <th>Sex_female</th>\n",
       "      <th>Sex_male</th>\n",
       "    </tr>\n",
       "  </thead>\n",
       "  <tbody>\n",
       "    <tr>\n",
       "      <th>0</th>\n",
       "      <td>1</td>\n",
       "      <td>2</td>\n",
       "      <td>0</td>\n",
       "      <td>0</td>\n",
       "      <td>1</td>\n",
       "    </tr>\n",
       "    <tr>\n",
       "      <th>1</th>\n",
       "      <td>3</td>\n",
       "      <td>0</td>\n",
       "      <td>0</td>\n",
       "      <td>0</td>\n",
       "      <td>1</td>\n",
       "    </tr>\n",
       "    <tr>\n",
       "      <th>2</th>\n",
       "      <td>3</td>\n",
       "      <td>1</td>\n",
       "      <td>2</td>\n",
       "      <td>0</td>\n",
       "      <td>1</td>\n",
       "    </tr>\n",
       "    <tr>\n",
       "      <th>3</th>\n",
       "      <td>3</td>\n",
       "      <td>0</td>\n",
       "      <td>0</td>\n",
       "      <td>0</td>\n",
       "      <td>1</td>\n",
       "    </tr>\n",
       "    <tr>\n",
       "      <th>4</th>\n",
       "      <td>3</td>\n",
       "      <td>0</td>\n",
       "      <td>0</td>\n",
       "      <td>0</td>\n",
       "      <td>1</td>\n",
       "    </tr>\n",
       "  </tbody>\n",
       "</table>\n",
       "</div>"
      ],
      "text/plain": [
       "   Pclass  SibSp  Parch  Sex_female  Sex_male\n",
       "0       1      2      0           0         1\n",
       "1       3      0      0           0         1\n",
       "2       3      1      2           0         1\n",
       "3       3      0      0           0         1\n",
       "4       3      0      0           0         1"
      ]
     },
     "execution_count": 23,
     "metadata": {},
     "output_type": "execute_result"
    }
   ],
   "source": [
    "X.head()"
   ]
  },
  {
   "cell_type": "code",
   "execution_count": 24,
   "id": "fed5b05e",
   "metadata": {},
   "outputs": [],
   "source": [
    "from sklearn.ensemble import RandomForestClassifier\n",
    "model = RandomForestClassifier(n_estimators=100, max_depth=5, random_state=1)\n",
    "model.fit(X, y)  # обучаем модель\n",
    "prediction = model.predict(X_test)  # делаем предсказание\n",
    "output = pd.DataFrame({'PassengerId':test_full.PassengerId, 'Survived':prediction})\n",
    "output.to_csv('my_submission.csv', index=False)  # формируем  датафрейм и сохраняем его в csv файл"
   ]
  },
  {
   "cell_type": "code",
   "execution_count": 25,
   "id": "6669bd73",
   "metadata": {},
   "outputs": [
    {
     "data": {
      "text/html": [
       "<div>\n",
       "<style scoped>\n",
       "    .dataframe tbody tr th:only-of-type {\n",
       "        vertical-align: middle;\n",
       "    }\n",
       "\n",
       "    .dataframe tbody tr th {\n",
       "        vertical-align: top;\n",
       "    }\n",
       "\n",
       "    .dataframe thead th {\n",
       "        text-align: right;\n",
       "    }\n",
       "</style>\n",
       "<table border=\"1\" class=\"dataframe\">\n",
       "  <thead>\n",
       "    <tr style=\"text-align: right;\">\n",
       "      <th></th>\n",
       "      <th>PassengerId</th>\n",
       "      <th>Survived</th>\n",
       "    </tr>\n",
       "  </thead>\n",
       "  <tbody>\n",
       "    <tr>\n",
       "      <th>0</th>\n",
       "      <td>100000</td>\n",
       "      <td>0</td>\n",
       "    </tr>\n",
       "    <tr>\n",
       "      <th>1</th>\n",
       "      <td>100001</td>\n",
       "      <td>1</td>\n",
       "    </tr>\n",
       "    <tr>\n",
       "      <th>2</th>\n",
       "      <td>100002</td>\n",
       "      <td>1</td>\n",
       "    </tr>\n",
       "    <tr>\n",
       "      <th>3</th>\n",
       "      <td>100003</td>\n",
       "      <td>0</td>\n",
       "    </tr>\n",
       "    <tr>\n",
       "      <th>4</th>\n",
       "      <td>100004</td>\n",
       "      <td>1</td>\n",
       "    </tr>\n",
       "  </tbody>\n",
       "</table>\n",
       "</div>"
      ],
      "text/plain": [
       "   PassengerId  Survived\n",
       "0       100000         0\n",
       "1       100001         1\n",
       "2       100002         1\n",
       "3       100003         0\n",
       "4       100004         1"
      ]
     },
     "execution_count": 25,
     "metadata": {},
     "output_type": "execute_result"
    }
   ],
   "source": [
    "sam_sub_rf = pd.read_csv(r'Path\\my_submission.csv')\n",
    "sam_sub_rf.head()"
   ]
  }
 ],
 "metadata": {
  "kernelspec": {
   "display_name": "Python 3 (ipykernel)",
   "language": "python",
   "name": "python3"
  },
  "language_info": {
   "codemirror_mode": {
    "name": "ipython",
    "version": 3
   },
   "file_extension": ".py",
   "mimetype": "text/x-python",
   "name": "python",
   "nbconvert_exporter": "python",
   "pygments_lexer": "ipython3",
   "version": "3.9.7"
  }
 },
 "nbformat": 4,
 "nbformat_minor": 5
}
